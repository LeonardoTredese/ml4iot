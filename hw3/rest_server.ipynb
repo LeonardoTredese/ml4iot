{
 "cells": [
  {
   "cell_type": "code",
   "execution_count": 4,
   "id": "8acb2a9f",
   "metadata": {},
   "outputs": [
    {
     "name": "stderr",
     "output_type": "stream",
     "text": [
      "[06/Jan/2023:15:19:06] ENGINE Bus STARTING\n",
      "[06/Jan/2023:15:19:06] ENGINE Started monitor thread 'Autoreloader'.\n",
      "[06/Jan/2023:15:19:07] ENGINE Serving on http://0.0.0.0:8080\n",
      "[06/Jan/2023:15:19:07] ENGINE Bus STARTED\n"
     ]
    },
    {
     "name": "stdout",
     "output_type": "stream",
     "text": [
      "127.0.0.1 - - [06/Jan/2023:15:19:10] \"GET /devices HTTP/1.1\" 200 37 \"\" \"python-requests/2.28.1\"\n",
      "127.0.0.1 - - [06/Jan/2023:15:19:10] \"GET /device/0xc71f33a20b34?from=1672928350175&to=1673014750175 HTTP/1.1\" 200 825 \"\" \"python-requests/2.28.1\"\n",
      "127.0.0.1 - - [06/Jan/2023:15:19:10] \"DELETE /device/0xc71f33a20b34 HTTP/1.1\" 200 34 \"\" \"python-requests/2.28.1\"\n",
      "127.0.0.1 - - [06/Jan/2023:15:19:14] \"GET /devices HTTP/1.1\" 200 37 \"\" \"python-requests/2.28.1\"\n",
      "127.0.0.1 - - [06/Jan/2023:15:19:15] \"GET /device/0xc71f33a20b34?from=1672928354994&to=1673014754994 HTTP/1.1\" 200 283 \"\" \"python-requests/2.28.1\"\n",
      "127.0.0.1 - - [06/Jan/2023:15:19:15] \"DELETE /device/0xc71f33a20b34 HTTP/1.1\" 200 34 \"\" \"python-requests/2.28.1\"\n"
     ]
    },
    {
     "name": "stderr",
     "output_type": "stream",
     "text": [
      "[06/Jan/2023:15:19:25] ENGINE Keyboard Interrupt: shutting down bus\n",
      "[06/Jan/2023:15:19:25] ENGINE Bus STOPPING\n",
      "[06/Jan/2023:15:19:25] ENGINE HTTP Server cherrypy._cpwsgi_server.CPWSGIServer(('0.0.0.0', 8080)) shut down\n",
      "[06/Jan/2023:15:19:25] ENGINE Stopped thread 'Autoreloader'.\n",
      "[06/Jan/2023:15:19:25] ENGINE Bus STOPPED\n",
      "[06/Jan/2023:15:19:25] ENGINE Bus EXITING\n",
      "[06/Jan/2023:15:19:25] ENGINE Bus EXITED\n",
      "[06/Jan/2023:15:19:25] ENGINE Waiting for child threads to terminate...\n"
     ]
    }
   ],
   "source": [
    "import cherrypy\n",
    "import json\n",
    "import redis\n",
    "\n",
    "#redis_client = redis.Redis(\n",
    "  #username='default',\n",
    "  #host='redis-19264.c301.ap-south-1-1.ec2.cloud.redislabs.com',\n",
    "  #port=19264,\n",
    "  #password='6HVuWRH8CSONqykRKS9Y2esqvv6o4II7'\n",
    "  #)\n",
    "redis_client = redis.Redis(\n",
    "  username='default',\n",
    "  password='g49VWZnOYYr1TVC7CqwyDOY48wa6BHff',\n",
    "  host='redis-14675.c250.eu-central-1-1.ec2.cloud.redislabs.com',\n",
    "  port=14675\n",
    "  )\n",
    "\n",
    "# endpoint /devices\n",
    "class Devices(object):\n",
    "    exposed = True\n",
    "\n",
    "    def GET(self, *path, **query):\n",
    "        devices = [key.decode().split(':')[0] for key in redis_client.keys('*:power')]\n",
    "        return json.dumps({'mac_addresses' : devices})\n",
    "\n",
    "# endpoint /device/{mac_address}\n",
    "class BatteryStatus(object):\n",
    "    exposed = True\n",
    "    \n",
    "    def GET(self, *path, **query):\n",
    "        if len(path) != 1:\n",
    "            raise cherrypy.HTTPError(400, 'Bad Request: missing MAC address')\n",
    "        if 'from' not in query:\n",
    "            raise cherrypy.HTTPError(400, 'Bad Request: missing start time')\n",
    "        if 'to' not in query:\n",
    "            raise cherrypy.HTTPError(400, 'Bad Request: missing end time')\n",
    "        mac_address = path[0]\n",
    "        start, end = int(query['from']), int(query['to'])\n",
    "        devices = [key.decode().split(':')[0] for key in redis_client.keys('*:power')]\n",
    "        if mac_address not in devices:\n",
    "            raise cherrypy.HTTPError(404, 'Not Found: invalid MAC address')\n",
    "        battery_ts = redis_client.ts().range(mac_address + ':battery', start, end)\n",
    "        power_ts = redis_client.ts().range(mac_address + ':power', start, end)\n",
    "        if battery_ts and power_ts: \n",
    "            timestamps, battery_levels = zip(*battery_ts)\n",
    "            _, power = zip(*power_ts)\n",
    "        else:\n",
    "            timestamps, battery_levels, power = [], [], []\n",
    "        return json.dumps({\n",
    "            'mac_address': mac_address,\n",
    "            'timestamps': timestamps,\n",
    "            'battery_levels': battery_levels,\n",
    "            'power_plugged': power\n",
    "        })\n",
    "    \n",
    "    def DELETE(self, *path, **query):\n",
    "        if len(path) != 1:\n",
    "            raise cherrypy.HTTPError(400, 'Bad Request: missing MAC address')\n",
    "        mac_address = path[0]\n",
    "        devices = [key.decode().split(':')[0] for key in redis_client.keys('*:power')]\n",
    "        if mac_address not in devices:\n",
    "            raise cherrypy.HTTPError(404, 'Not Found: invalid MAC address')\n",
    "        redis_client.delete(mac_address + ':battery')\n",
    "        redis_client.delete(mac_address + ':power')\n",
    "        return 'OK: Everything worked as expected.'\n",
    "        \n",
    "\n",
    "conf = {'/': {'request.dispatch': cherrypy.dispatch.MethodDispatcher()}}\n",
    "cherrypy.tree.mount(Devices(), '/devices', conf)\n",
    "cherrypy.tree.mount(BatteryStatus(), '/device', conf)\n",
    "cherrypy.config.update({'server.socket_host': '0.0.0.0'})\n",
    "cherrypy.config.update({'server.socket_port': 8080})\n",
    "cherrypy.engine.start()\n",
    "cherrypy.engine.block()"
   ]
  }
 ],
 "metadata": {
  "kernelspec": {
   "display_name": "iot",
   "language": "python",
   "name": "python3"
  },
  "language_info": {
   "codemirror_mode": {
    "name": "ipython",
    "version": 3
   },
   "file_extension": ".py",
   "mimetype": "text/x-python",
   "name": "python",
   "nbconvert_exporter": "python",
   "pygments_lexer": "ipython3",
   "version": "3.9.15"
  },
  "vscode": {
   "interpreter": {
    "hash": "df0a68cd1ef04faa3bd3d43d61cea90bae545135bfcb7a58b981633a78008248"
   }
  }
 },
 "nbformat": 4,
 "nbformat_minor": 5
}
