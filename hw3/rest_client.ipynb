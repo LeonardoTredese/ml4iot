{
 "cells": [
  {
   "cell_type": "code",
   "execution_count": 17,
   "id": "31fcbcb4",
   "metadata": {},
   "outputs": [],
   "source": [
    "import requests as rq\n",
    "import time\n",
    "import matplotlib.pyplot as plt\n",
    "from datetime import datetime\n",
    "URL = 'localhost:8080'\n",
    "DAY = 24 * 60 * 60 * 1000\n",
    "\n",
    "message = rq.get(URL+'/devices').json()\n",
    "devices = message['mac_addresses']\n",
    "print(devices)\n",
    "for device in devices:\n",
    "    now = round(time.time() * 1000)\n",
    "    message = rq.get(URL + f'/device/{device}', params = {'from': now - DAY, 'to': now}).json()\n",
    "    if message['timestamps']:\n",
    "        dates_battery_levels = []\n",
    "        battery_levels = []\n",
    "        for timestamp, battery_level in zip(message['timestamps'], message['battery_levels']):\n",
    "            if battery_level != \"null\":\n",
    "                dates_battery_levels.append(datetime.fromtimestamp(timestamp/1000))\n",
    "                battery_levels.append(battery_level)\n",
    "        dates_powers = []\n",
    "        powers = []\n",
    "        for timestamp, power in zip(message['timestamps'], message['power_plugged']):\n",
    "            if power != 'null':\n",
    "                dates_powers.append(datetime.fromtimestamp(timestamp/1000))\n",
    "                powers.append(power)\n",
    "\n",
    "        _, ax = plt.subplots(1, 2, figsize=(10, 5))\n",
    "        ax[0].plot_date(dates_battery_levels, battery_levels)\n",
    "        ax[0].set_xticklabels(dates_battery_levels, rotation=70)\n",
    "        ax[0].set_xlabel('Time')\n",
    "        ax[0].set_ylabel('Battery level')\n",
    "        ax[0].set_title('Battery level')\n",
    "\n",
    "        ax[1].plot_date(dates_powers, powers)\n",
    "        ax[1].set_xticklabels(dates_powers, rotation=70)\n",
    "        ax[1].set_xlabel('Time')\n",
    "        ax[1].set_ylabel('Power plugged')\n",
    "        ax[1].set_title('Power plugged')\n",
    "if devices:\n",
    "    rq.delete(URL + f'/device/{devices[-1]}')"
   ]
  }
 ],
 "metadata": {
  "kernelspec": {
   "display_name": "iot",
   "language": "python",
   "name": "python3"
  },
  "language_info": {
   "codemirror_mode": {
    "name": "ipython",
    "version": 3
   },
   "file_extension": ".py",
   "mimetype": "text/x-python",
   "name": "python",
   "nbconvert_exporter": "python",
   "pygments_lexer": "ipython3",
   "version": "3.9.15 (main, Nov 24 2022, 14:31:59) \n[GCC 11.2.0]"
  },
  "vscode": {
   "interpreter": {
    "hash": "df0a68cd1ef04faa3bd3d43d61cea90bae545135bfcb7a58b981633a78008248"
   }
  }
 },
 "nbformat": 4,
 "nbformat_minor": 5
}
